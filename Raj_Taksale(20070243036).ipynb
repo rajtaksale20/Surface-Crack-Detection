{
  "nbformat": 4,
  "nbformat_minor": 0,
  "metadata": {
    "colab": {
      "name": "Raj Taksale(20070243036).ipynb",
      "provenance": [],
      "collapsed_sections": []
    },
    "kernelspec": {
      "name": "python3",
      "display_name": "Python 3"
    },
    "language_info": {
      "name": "python"
    }
  },
  "cells": [
    {
      "cell_type": "markdown",
      "metadata": {
        "id": "yf0_RpaaQaPQ"
      },
      "source": [
        "**Name: Raj Taksale**\n",
        "\n",
        "**PRN: 20070243036**\n",
        "\n",
        "**Subject: Deep Learning**\n",
        "\n",
        "**Task: To build a CNN Model which will classify if the Surface is Cracked or Not Cracked.**"
      ]
    },
    {
      "cell_type": "code",
      "metadata": {
        "colab": {
          "base_uri": "https://localhost:8080/"
        },
        "id": "RCI_G8ejDyp6",
        "outputId": "3d9cc2e2-8e81-423c-c77e-d54d9a1c7ac5"
      },
      "source": [
        "from google.colab import drive\n",
        "drive.mount('/content/drive')"
      ],
      "execution_count": 5,
      "outputs": [
        {
          "output_type": "stream",
          "name": "stdout",
          "text": [
            "Drive already mounted at /content/drive; to attempt to forcibly remount, call drive.mount(\"/content/drive\", force_remount=True).\n"
          ]
        }
      ]
    },
    {
      "cell_type": "markdown",
      "metadata": {
        "id": "uO0JjFJ2QD7Y"
      },
      "source": [
        "**1. Importing neccessary libraries**"
      ]
    },
    {
      "cell_type": "code",
      "metadata": {
        "id": "1pMzg7kc-ia1"
      },
      "source": [
        "import tensorflow as tf\n",
        "from keras.preprocessing.image import ImageDataGenerator\n",
        "#ImageDataGenerator manipulates the image by augmenting it through a preprocessing stage"
      ],
      "execution_count": 3,
      "outputs": []
    },
    {
      "cell_type": "markdown",
      "metadata": {
        "id": "gZtX2wV2RR-_"
      },
      "source": [
        "**2. Pre-Processing the train data**\n",
        "\n",
        "Here. we are using the **ImageDataGenerator** which lets us augment our images in real-time while our model is still training! \n",
        "\n",
        "It can also be applied to any random transformations on each training image as it is passed to the model. This specifically will not only make our model robust but will also save up on the overhead memory."
      ]
    },
    {
      "cell_type": "code",
      "metadata": {
        "colab": {
          "base_uri": "https://localhost:8080/"
        },
        "id": "k7MLuZLJ-qst",
        "outputId": "82546489-fbd1-4bc4-fdc1-616ca3438cd8"
      },
      "source": [
        " # Preprocessing the train data\n",
        "train_datagen = ImageDataGenerator(rescale = 1./255, shear_range = 0.2, zoom_range = 0.2, horizontal_flip = True)\n",
        "\n",
        "# Reading train_datagen\n",
        "training_set = train_datagen.flow_from_directory('/content/drive/MyDrive/Surface Crack/Training',\n",
        "                                                 target_size = (128,128),\n",
        "                                                 batch_size = 32,\n",
        "                                                 class_mode = 'binary') "
      ],
      "execution_count": 6,
      "outputs": [
        {
          "output_type": "stream",
          "name": "stdout",
          "text": [
            "Found 4000 images belonging to 2 classes.\n"
          ]
        }
      ]
    },
    {
      "cell_type": "markdown",
      "metadata": {
        "id": "TNFcTpIcSKuP"
      },
      "source": [
        "**3. Pre-Processing the test data**"
      ]
    },
    {
      "cell_type": "code",
      "metadata": {
        "colab": {
          "base_uri": "https://localhost:8080/"
        },
        "id": "x1Pvt_amDfnz",
        "outputId": "4656321a-103c-4175-c8ce-c3416690ccdf"
      },
      "source": [
        " # Preprocessing the test data\n",
        "test_datagen = ImageDataGenerator(rescale = 1./255, shear_range = 0.2, zoom_range = 0.2, horizontal_flip = True)\n",
        "\n",
        "# Reading test_datagen\n",
        "testing_set = test_datagen.flow_from_directory('/content/drive/MyDrive/Surface Crack/Testing',\n",
        "                                                 target_size = (128,128),\n",
        "                                                 batch_size = 32,\n",
        "                                                 class_mode = 'binary') "
      ],
      "execution_count": 7,
      "outputs": [
        {
          "output_type": "stream",
          "name": "stdout",
          "text": [
            "Found 1000 images belonging to 2 classes.\n"
          ]
        }
      ]
    },
    {
      "cell_type": "markdown",
      "metadata": {
        "id": "XTmgXrAISVnn"
      },
      "source": [
        "# Building the CNN Model"
      ]
    },
    {
      "cell_type": "markdown",
      "metadata": {
        "id": "MNCNeYpkSZhr"
      },
      "source": [
        "**1. Here the CNN Model is initialized**"
      ]
    },
    {
      "cell_type": "code",
      "metadata": {
        "id": "YO_FTqlvIEo6"
      },
      "source": [
        "# Intialize the CNN Model\n",
        "\n",
        "cnn = tf.keras.models.Sequential()\n",
        "\n",
        "# Here, we will add four different steps"
      ],
      "execution_count": 8,
      "outputs": []
    },
    {
      "cell_type": "markdown",
      "metadata": {
        "id": "jViCt1oYS6YP"
      },
      "source": [
        "**2. The first step is adding the first convolutional layer**\n",
        "\n",
        "Here, the first layer has 32 filters and a 3*3 filter size(kernel_size), this will help to extract the feature map from the input image. \n",
        "\n",
        "The activation function chosen is relu specifically since it will help us solve the vanishing gradient problem."
      ]
    },
    {
      "cell_type": "code",
      "metadata": {
        "id": "jChGvNPVIIeZ"
      },
      "source": [
        "# Step 1 - Convolution\n",
        "\n",
        "cnn.add(tf.keras.layers.Conv2D(filters = 32, kernel_size = 3, activation = 'relu', input_shape = [128,128,3]))"
      ],
      "execution_count": 9,
      "outputs": []
    },
    {
      "cell_type": "markdown",
      "metadata": {
        "id": "QrrNM0URTaw_"
      },
      "source": [
        "**3. The second step is to add a pooling layer**\n",
        "\n",
        "Here, a pool filter of size 2*2 and a stride of 2 is added. \n",
        "\n",
        "The MaxPooling filter, which extracts the maximum pixel value from the area where the filter was applied. \n",
        "\n",
        "The pooled feature map of the input will be extracted from the output of this pooling layer."
      ]
    },
    {
      "cell_type": "code",
      "metadata": {
        "id": "rHAIa9c6IM0z"
      },
      "source": [
        "# Step 2 - Pooling Layer\n",
        "\n",
        "cnn.add(tf.keras.layers.MaxPool2D(pool_size = 2, strides = 2))"
      ],
      "execution_count": 10,
      "outputs": []
    },
    {
      "cell_type": "markdown",
      "metadata": {
        "id": "8rKUCrz7UTTn"
      },
      "source": [
        "To overcome the vanishing gradients problem, I have added one more convolutional layer and one more max pooling layer with the same configurations as before, and used relu as an activation function once again."
      ]
    },
    {
      "cell_type": "code",
      "metadata": {
        "id": "BHTyHOpUIOwx"
      },
      "source": [
        "cnn.add(tf.keras.layers.Conv2D(filters = 32, kernel_size = 3, activation = 'relu'))\n",
        "cnn.add(tf.keras.layers.MaxPool2D(pool_size = 2, strides = 2))"
      ],
      "execution_count": 11,
      "outputs": []
    },
    {
      "cell_type": "markdown",
      "metadata": {
        "id": "1QYivT88Uai3"
      },
      "source": [
        "**4. The third step is the flatenning layer**\n",
        "\n",
        "The flatenning layer transforms our input image into an one-dimensional array, which will then be linked to the fully connected neural network layer."
      ]
    },
    {
      "cell_type": "code",
      "metadata": {
        "id": "9amCPxbiIRuC"
      },
      "source": [
        "# Step 3 - Flatenning Layer\n",
        "\n",
        "cnn.add(tf.keras.layers.Flatten())"
      ],
      "execution_count": 12,
      "outputs": []
    },
    {
      "cell_type": "markdown",
      "metadata": {
        "id": "EZ_qBtt_Vdau"
      },
      "source": [
        "**5. The fourth step is adding the fully connected neural network with 128 Neurons**"
      ]
    },
    {
      "cell_type": "code",
      "metadata": {
        "id": "rRb5Og_aITvh"
      },
      "source": [
        "# Adding the fully connected neural network\n",
        "\n",
        "cnn.add(tf.keras.layers.Dense(units = 128, activation = 'relu'))"
      ],
      "execution_count": 13,
      "outputs": []
    },
    {
      "cell_type": "markdown",
      "metadata": {
        "id": "Ht3B8Bg0WIkf"
      },
      "source": [
        "**6. As we have a binary output, we'll use the sigmoid function to categorise whether the flower is a Dandelion or a Tulip.**"
      ]
    },
    {
      "cell_type": "code",
      "metadata": {
        "id": "SiyMiEjtIV75"
      },
      "source": [
        "# Adding output layer\n",
        "\n",
        "cnn.add(tf.keras.layers.Dense(units = 1, activation = 'sigmoid'))"
      ],
      "execution_count": 14,
      "outputs": []
    },
    {
      "cell_type": "markdown",
      "metadata": {
        "id": "Kcwi0ljeWm9O"
      },
      "source": [
        "**7. Validating the CNN Model against the testing data images after training it on the training data images.**"
      ]
    },
    {
      "cell_type": "code",
      "metadata": {
        "id": "IRvKJ86eIYHx"
      },
      "source": [
        "# Training the model\n",
        "\n",
        "cnn.compile(optimizer = 'adam', loss = 'binary_crossentropy', metrics = ['accuracy'])"
      ],
      "execution_count": 15,
      "outputs": []
    },
    {
      "cell_type": "code",
      "metadata": {
        "colab": {
          "base_uri": "https://localhost:8080/"
        },
        "id": "BYPMXmYjIekJ",
        "outputId": "b2d5b84e-45a6-4148-b2b5-66535db056ef"
      },
      "source": [
        "history = cnn.fit(x = training_set, validation_data = testing_set, epochs = 20,steps_per_epoch=30)"
      ],
      "execution_count": 35,
      "outputs": [
        {
          "output_type": "stream",
          "name": "stdout",
          "text": [
            "Epoch 1/20\n",
            "30/30 [==============================] - 40s 1s/step - loss: 0.1034 - accuracy: 0.9760 - val_loss: 0.0715 - val_accuracy: 0.9840\n",
            "Epoch 2/20\n",
            "30/30 [==============================] - 36s 1s/step - loss: 0.0725 - accuracy: 0.9760 - val_loss: 0.1636 - val_accuracy: 0.9480\n",
            "Epoch 3/20\n",
            "30/30 [==============================] - 35s 1s/step - loss: 0.0849 - accuracy: 0.9844 - val_loss: 0.3056 - val_accuracy: 0.9190\n",
            "Epoch 4/20\n",
            "30/30 [==============================] - 32s 1s/step - loss: 0.1206 - accuracy: 0.9708 - val_loss: 0.0803 - val_accuracy: 0.9630\n",
            "Epoch 5/20\n",
            "30/30 [==============================] - 34s 1s/step - loss: 0.0371 - accuracy: 0.9865 - val_loss: 0.1713 - val_accuracy: 0.9440\n",
            "Epoch 6/20\n",
            "30/30 [==============================] - 33s 1s/step - loss: 0.0854 - accuracy: 0.9792 - val_loss: 0.0961 - val_accuracy: 0.9610\n",
            "Epoch 7/20\n",
            "30/30 [==============================] - 33s 1s/step - loss: 0.0379 - accuracy: 0.9906 - val_loss: 0.0592 - val_accuracy: 0.9750\n",
            "Epoch 8/20\n",
            "30/30 [==============================] - 32s 1s/step - loss: 0.0459 - accuracy: 0.9885 - val_loss: 0.1054 - val_accuracy: 0.9620\n",
            "Epoch 9/20\n",
            "30/30 [==============================] - 32s 1s/step - loss: 0.0628 - accuracy: 0.9781 - val_loss: 0.1077 - val_accuracy: 0.9590\n",
            "Epoch 10/20\n",
            "30/30 [==============================] - 32s 1s/step - loss: 0.0681 - accuracy: 0.9802 - val_loss: 0.0701 - val_accuracy: 0.9770\n",
            "Epoch 11/20\n",
            "30/30 [==============================] - 32s 1s/step - loss: 0.0348 - accuracy: 0.9885 - val_loss: 0.0678 - val_accuracy: 0.9820\n",
            "Epoch 12/20\n",
            "30/30 [==============================] - 33s 1s/step - loss: 0.0222 - accuracy: 0.9906 - val_loss: 0.0762 - val_accuracy: 0.9710\n",
            "Epoch 13/20\n",
            "30/30 [==============================] - 32s 1s/step - loss: 0.0239 - accuracy: 0.9906 - val_loss: 0.0472 - val_accuracy: 0.9770\n",
            "Epoch 14/20\n",
            "30/30 [==============================] - 32s 1s/step - loss: 0.0982 - accuracy: 0.9812 - val_loss: 0.0605 - val_accuracy: 0.9750\n",
            "Epoch 15/20\n",
            "30/30 [==============================] - 32s 1s/step - loss: 0.0450 - accuracy: 0.9854 - val_loss: 0.2358 - val_accuracy: 0.9430\n",
            "Epoch 16/20\n",
            "30/30 [==============================] - 31s 1s/step - loss: 0.0804 - accuracy: 0.9771 - val_loss: 0.0993 - val_accuracy: 0.9770\n",
            "Epoch 17/20\n",
            "30/30 [==============================] - 31s 1s/step - loss: 0.0467 - accuracy: 0.9844 - val_loss: 0.1203 - val_accuracy: 0.9640\n",
            "Epoch 18/20\n",
            "30/30 [==============================] - 32s 1s/step - loss: 0.0626 - accuracy: 0.9854 - val_loss: 0.0577 - val_accuracy: 0.9790\n",
            "Epoch 19/20\n",
            "30/30 [==============================] - 32s 1s/step - loss: 0.0318 - accuracy: 0.9906 - val_loss: 0.0492 - val_accuracy: 0.9770\n",
            "Epoch 20/20\n",
            "30/30 [==============================] - 31s 1s/step - loss: 0.0650 - accuracy: 0.9781 - val_loss: 0.0973 - val_accuracy: 0.9660\n"
          ]
        }
      ]
    },
    {
      "cell_type": "markdown",
      "metadata": {
        "id": "RiduuYJMWuVG"
      },
      "source": [
        "**8. Validating the model's performance on the images in the validation folder.**"
      ]
    },
    {
      "cell_type": "code",
      "metadata": {
        "id": "HMHf0_BlOHQn"
      },
      "source": [
        "import numpy as np\n",
        "from keras.preprocessing import image"
      ],
      "execution_count": 36,
      "outputs": []
    },
    {
      "cell_type": "markdown",
      "metadata": {
        "id": "XFEDEvdLW8ve"
      },
      "source": [
        "**Image 1**"
      ]
    },
    {
      "cell_type": "code",
      "metadata": {
        "id": "3bErTAFhOJsP"
      },
      "source": [
        "test_image = image.load_img('/content/drive/MyDrive/Surface Crack/Validation/19957.jpg', target_size = (128,128))\n",
        "test_image = image.img_to_array(test_image)\n",
        "test_image = np.expand_dims(test_image, axis = 0)\n",
        "\n",
        "result = cnn.predict(test_image)"
      ],
      "execution_count": 37,
      "outputs": []
    },
    {
      "cell_type": "code",
      "metadata": {
        "colab": {
          "base_uri": "https://localhost:8080/"
        },
        "id": "F8P-OaHeOVvv",
        "outputId": "05a52307-116a-4e7a-ce41-215132fa86db"
      },
      "source": [
        "if (result[0][0] == 1):\n",
        "  prediction = 'Crack'\n",
        "\n",
        "else:\n",
        "  prediction = 'Not Crack'\n",
        "\n",
        "print(prediction)"
      ],
      "execution_count": 38,
      "outputs": [
        {
          "output_type": "stream",
          "name": "stdout",
          "text": [
            "Crack\n"
          ]
        }
      ]
    },
    {
      "cell_type": "code",
      "metadata": {
        "colab": {
          "base_uri": "https://localhost:8080/",
          "height": 244
        },
        "id": "ho2idw1OOcgv",
        "outputId": "08be89f5-1e84-49e1-e454-2cfbb8dbffb2"
      },
      "source": [
        "from IPython.display import Image,display\n",
        "display(Image('/content/drive/MyDrive/Surface Crack/Validation/19957.jpg'))"
      ],
      "execution_count": 39,
      "outputs": [
        {
          "output_type": "display_data",
          "data": {
            "image/jpeg": "[encoded data removed]",
            "text/plain": [
              "<IPython.core.display.Image object>"
            ]
          },
          "metadata": {}
        }
      ]
    },
    {
      "cell_type": "markdown",
      "metadata": {
        "id": "bN67nlDHXAxW"
      },
      "source": [
        "**Image 2**"
      ]
    },
    {
      "cell_type": "code",
      "metadata": {
        "id": "-LrGD5RKXFoK"
      },
      "source": [
        "test_image = image.load_img('/content/drive/MyDrive/Surface Crack/Validation/19995.jpg', target_size = (128,128))\n",
        "test_image = image.img_to_array(test_image)\n",
        "test_image = np.expand_dims(test_image, axis = 0)\n",
        "\n",
        "result = cnn.predict(test_image)"
      ],
      "execution_count": 40,
      "outputs": []
    },
    {
      "cell_type": "code",
      "metadata": {
        "colab": {
          "base_uri": "https://localhost:8080/"
        },
        "id": "F9hHXv6EXJ3F",
        "outputId": "b5af9ff8-2560-435b-80f8-2f7ed3f4e763"
      },
      "source": [
        "if (result[0][0] == 1):\n",
        "  prediction = 'Crack'\n",
        "\n",
        "else:\n",
        "  prediction = 'Not Crack'\n",
        "\n",
        "print(prediction)"
      ],
      "execution_count": 41,
      "outputs": [
        {
          "output_type": "stream",
          "name": "stdout",
          "text": [
            "Not Crack\n"
          ]
        }
      ]
    },
    {
      "cell_type": "code",
      "metadata": {
        "colab": {
          "base_uri": "https://localhost:8080/",
          "height": 244
        },
        "id": "gsHK3qmAXLGO",
        "outputId": "b6a63b2b-0dba-43a7-c162-1fee0f6199f8"
      },
      "source": [
        "from IPython.display import Image,display\n",
        "display(Image('/content/drive/MyDrive/Surface Crack/Validation/19995.jpg'))"
      ],
      "execution_count": 42,
      "outputs": [
        {
          "output_type": "display_data",
          "data": {
            "image/jpeg": "[encoded data removed]",
            "text/plain": [
              "<IPython.core.display.Image object>"
            ]
          },
          "metadata": {}
        }
      ]
    },
    {
      "cell_type": "markdown",
      "metadata": {
        "id": "hD0IY8KzXQ8u"
      },
      "source": [
        "**Image 3**"
      ]
    },
    {
      "cell_type": "code",
      "metadata": {
        "id": "FsvzJ_tOXT82"
      },
      "source": [
        "test_image = image.load_img('/content/drive/MyDrive/Surface Crack/Validation/20000.jpg', target_size = (128,128))\n",
        "test_image = image.img_to_array(test_image)\n",
        "test_image = np.expand_dims(test_image, axis = 0)\n",
        "\n",
        "result = cnn.predict(test_image)"
      ],
      "execution_count": 43,
      "outputs": []
    },
    {
      "cell_type": "code",
      "metadata": {
        "colab": {
          "base_uri": "https://localhost:8080/"
        },
        "id": "9TnM9h_SXaCf",
        "outputId": "e85538db-20c9-48a6-f273-5a7c83de606f"
      },
      "source": [
        "if (result[0][0] == 1):\n",
        "  prediction = 'Crack'\n",
        "\n",
        "else:\n",
        "  prediction = 'Not Crack'\n",
        "\n",
        "print(prediction)"
      ],
      "execution_count": 44,
      "outputs": [
        {
          "output_type": "stream",
          "name": "stdout",
          "text": [
            "Not Crack\n"
          ]
        }
      ]
    },
    {
      "cell_type": "code",
      "metadata": {
        "colab": {
          "base_uri": "https://localhost:8080/",
          "height": 244
        },
        "id": "LJN4vcNJXcXG",
        "outputId": "6583554a-436e-4412-aa26-969e104b16b2"
      },
      "source": [
        "from IPython.display import Image,display\n",
        "display(Image('/content/drive/MyDrive/Surface Crack/Validation/20000.jpg'))"
      ],
      "execution_count": 45,
      "outputs": [
        {
          "output_type": "display_data",
          "data": {
            "image/jpeg": "[encoded data removed]",
            "text/plain": [
              "<IPython.core.display.Image object>"
            ]
          },
          "metadata": {}
        }
      ]
    },
    {
      "cell_type": "markdown",
      "metadata": {
        "id": "c4VAuPpvXhJG"
      },
      "source": [
        "**Image 4**"
      ]
    },
    {
      "cell_type": "code",
      "metadata": {
        "id": "J79eahUnXgZ-"
      },
      "source": [
        "test_image = image.load_img('/content/drive/MyDrive/Surface Crack/Validation/19977.jpg', target_size = (128,128))\n",
        "test_image = image.img_to_array(test_image)\n",
        "test_image = np.expand_dims(test_image, axis = 0)\n",
        "\n",
        "result = cnn.predict(test_image)"
      ],
      "execution_count": 46,
      "outputs": []
    },
    {
      "cell_type": "code",
      "metadata": {
        "colab": {
          "base_uri": "https://localhost:8080/"
        },
        "id": "OV-aQga2XnJP",
        "outputId": "7ab3ef76-dd80-4731-e650-fa2cfe16874a"
      },
      "source": [
        "if (result[0][0] == 1):\n",
        "  prediction = 'Crack'\n",
        "\n",
        "else:\n",
        "  prediction = 'Not Crack'\n",
        "\n",
        "print(prediction)"
      ],
      "execution_count": 47,
      "outputs": [
        {
          "output_type": "stream",
          "name": "stdout",
          "text": [
            "Crack\n"
          ]
        }
      ]
    },
    {
      "cell_type": "code",
      "metadata": {
        "colab": {
          "base_uri": "https://localhost:8080/",
          "height": 244
        },
        "id": "XiDBIJzEXpxe",
        "outputId": "e348dc06-5dc0-439e-9eb7-d9da21e905c5"
      },
      "source": [
        "from IPython.display import Image,display\n",
        "display(Image('/content/drive/MyDrive/Surface Crack/Validation/19977.jpg'))"
      ],
      "execution_count": 48,
      "outputs": [
        {
          "output_type": "display_data",
          "data": {
            "image/jpeg": "[encoded data removed]",
            "text/plain": [
              "<IPython.core.display.Image object>"
            ]
          },
          "metadata": {}
        }
      ]
    },
    {
      "cell_type": "code",
      "metadata": {
        "colab": {
          "base_uri": "https://localhost:8080/",
          "height": 295
        },
        "id": "a1ZVMjiTNLZ0",
        "outputId": "e6643a16-5e44-4381-ea65-f94382994f13"
      },
      "source": [
        "import matplotlib.pyplot as plt\n",
        "plt.figure(0)\n",
        "plt.plot(history.history['accuracy'], label='training accuracy')\n",
        "plt.plot(history.history['val_accuracy'], label='val accuracy')\n",
        "plt.title('Accuracy')\n",
        "plt.xlabel('epochs')\n",
        "plt.ylabel('accuracy')\n",
        "plt.legend()\n",
        "plt.show()"
      ],
      "execution_count": 49,
      "outputs": [
        {
          "output_type": "display_data",
          "data": {
            "image/png": "[encoded data removed]",
            "text/plain": [
              "<Figure size 432x288 with 1 Axes>"
            ]
          },
          "metadata": {
            "needs_background": "light"
          }
        }
      ]
    },
    {
      "cell_type": "code",
      "metadata": {
        "colab": {
          "base_uri": "https://localhost:8080/",
          "height": 295
        },
        "id": "SRLHGzMfRDna",
        "outputId": "69cfb100-7bd3-48c9-d2d6-baafffc59e4a"
      },
      "source": [
        "plt.figure(1)\n",
        "plt.plot(history.history['loss'], label='training loss')\n",
        "plt.plot(history.history['val_loss'], label='val loss')\n",
        "plt.title('Loss')\n",
        "plt.xlabel('epochs')\n",
        "plt.ylabel('loss')\n",
        "plt.legend()\n",
        "plt.show()"
      ],
      "execution_count": 50,
      "outputs": [
        {
          "output_type": "display_data",
          "data": {
            "image/png": "[encoded data removed]",
            "text/plain": [
              "<Figure size 432x288 with 1 Axes>"
            ]
          },
          "metadata": {
            "needs_background": "light"
          }
        }
      ]
    }
  ]
}